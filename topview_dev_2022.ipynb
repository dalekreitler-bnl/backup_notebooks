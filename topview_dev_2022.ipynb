{
 "cells": [
  {
   "cell_type": "code",
   "execution_count": 86,
   "metadata": {},
   "outputs": [],
   "source": [
    "from ophyd.areadetector.plugins import PluginBase, register_plugin\n",
    "from ophyd.areadetector.base import DDC_EpicsSignal, DDC_EpicsSignalRO\n",
    "from ophyd.areadetector.base import ADComponent as ADCpt\n",
    "from ophyd.areadetector.filestore_mixins import FileStoreTIFF\n",
    "\n",
    "\n",
    "@register_plugin\n",
    "class CVPlugin(PluginBase):\n",
    "    _default_suffix = \"CV1:\"\n",
    "    _suffix_re = \"CV1\\d:\"\n",
    "    _default_read_attrs = [\"outputs\"]\n",
    "    func_sets = DDC_EpicsSignal(\n",
    "        *[(f\"func_set{k}\", f\"CompVisionFunction{k}\") for k in range(1, 4)]\n",
    "    )\n",
    "    inputs = DDC_EpicsSignal(*[(f\"input{k}\", f\"Input{k}\") for k in range(1, 11)])\n",
    "    outputs = DDC_EpicsSignalRO(\n",
    "        *[(f\"output{k}\", f\"Output{k}_RBV\") for k in range(1, 11)]\n",
    "    )\n",
    "    cam_depth = ADCpt(EpicsSignal, \"CompVisionCamDepth\", kind=\"config\")\n",
    "\n",
    "\n",
    "# XF:17IDB-ES:AMX\n",
    "\n",
    "\n",
    "class TIFFPluginWithFileStore(TIFFPlugin, FileStoreTIFF):\n",
    "    pass\n",
    "\n",
    "\n",
    "class TopProsilica(SingleTrigger, ProsilicaDetector):\n",
    "    _default_read_attrs = [\"cv1\", \"tiff\"]\n",
    "    roi1 = Cpt(ROIPlugin, \"ROI1:\")\n",
    "    roi2 = Cpt(ROIPlugin, \"ROI2:\")\n",
    "    roi3 = Cpt(ROIPlugin, \"ROI3:\")\n",
    "    roi4 = Cpt(ROIPlugin, \"ROI4:\")\n",
    "    cv1 = Cpt(CVPlugin, \"CV1:\")\n",
    "    trans1 = Cpt(TransformPlugin, \"Trans1:\")\n",
    "    tiff = Cpt(\n",
    "        TIFFPluginWithFileStore,\n",
    "        \"TIFF1:\",\n",
    "        write_path_template=\"/nsls2/data/staff/dkreitler/softioc-amx_data\",\n",
    "    )\n",
    "    proc1 = Cpt(ProcessPlugin, \"Proc1:\")\n",
    "    stats1 = Cpt(StatsPlugin, \"Stats1:\")\n",
    "    stats2 = Cpt(StatsPlugin, \"Stats2:\")\n",
    "    stats3 = Cpt(StatsPlugin, \"Stats3:\")\n",
    "    stats4 = Cpt(StatsPlugin, \"Stats4:\")\n",
    "    stats5 = Cpt(StatsPlugin, \"Stats5:\")\n",
    "\n",
    "    def __init__(self, *args, **kwargs):\n",
    "        super().__init__(*args, **kwargs)\n",
    "        self.tiff.read_attrs = []\n",
    "        self.cv1.outputs.read_attrs = [f\"output{k}\" for k in range(1, 11)]\n",
    "\n",
    "                                                          "
   ]
  },
  {
   "cell_type": "code",
   "execution_count": 88,
   "metadata": {},
   "outputs": [
    {
     "data": {
      "text/plain": [
       "EpicsSignal(read_pv='XF:17IDB-ES:AMX{Cam:9}CV1:CompVisionCamDepth', name='topcam_cv1_cam_depth', parent='topcam_cv1', timestamp=1661969022.356215, auto_monitor=False, string=False, write_pv='XF:17IDB-ES:AMX{Cam:9}CV1:CompVisionCamDepth', limits=False, put_complete=False)"
      ]
     },
     "execution_count": 88,
     "metadata": {},
     "output_type": "execute_result"
    }
   ],
   "source": [
    "topcam.cv1.cam_depth"
   ]
  },
  {
   "cell_type": "code",
   "execution_count": 95,
   "metadata": {},
   "outputs": [
    {
     "name": "stderr",
     "output_type": "stream",
     "text": [
      "An exception has occurred, use '%tb verbose' to see the full traceback.\n"
     ]
    },
    {
     "ename": "ServerSelectionTimeoutError",
     "evalue": "xf17id2-srv2.nsls2.bnl.local:27017: [Errno 111] Connection refused, Timeout: 30s, Topology Description: <TopologyDescription id: 6317728cbcfb0b979f3b0607, topology_type: Unknown, servers: [<ServerDescription ('xf17id2-srv2.nsls2.bnl.local', 27017) server_type: Unknown, rtt: None, error=AutoReconnect('xf17id2-srv2.nsls2.bnl.local:27017: [Errno 111] Connection refused')>]>",
     "output_type": "error",
     "traceback": [
      "\u001b[0;31mServerSelectionTimeoutError\u001b[0m\u001b[0;31m:\u001b[0m xf17id2-srv2.nsls2.bnl.local:27017: [Errno 111] Connection refused, Timeout: 30s, Topology Description: <TopologyDescription id: 6317728cbcfb0b979f3b0607, topology_type: Unknown, servers: [<ServerDescription ('xf17id2-srv2.nsls2.bnl.local', 27017) server_type: Unknown, rtt: None, error=AutoReconnect('xf17id2-srv2.nsls2.bnl.local:27017: [Errno 111] Connection refused')>]>\n"
     ]
    },
    {
     "name": "stderr",
     "output_type": "stream",
     "text": [
      "See /epics/iocs/notebook/.cache/bluesky/log/bluesky.log for the full traceback.\n"
     ]
    }
   ],
   "source": [
    "RE(bp.scan([topcam],gonio.o,0,10,5))"
   ]
  },
  {
   "cell_type": "code",
   "execution_count": 102,
   "metadata": {},
   "outputs": [],
   "source": [
    "omega_list = [0, 45, 90, 180]\n",
    "d = np.pi/180\n",
    "A = np.matrix([[np.cos(2*omega*d), np.sin(2*omega*d), 1] for omega in omega_list])"
   ]
  },
  {
   "cell_type": "code",
   "execution_count": 103,
   "metadata": {},
   "outputs": [
    {
     "data": {
      "text/plain": [
       "matrix([[ 1.0000000e+00,  0.0000000e+00,  1.0000000e+00],\n",
       "        [ 6.1232340e-17,  1.0000000e+00,  1.0000000e+00],\n",
       "        [-1.0000000e+00,  1.2246468e-16,  1.0000000e+00],\n",
       "        [ 1.0000000e+00, -2.4492936e-16,  1.0000000e+00]])"
      ]
     },
     "execution_count": 103,
     "metadata": {},
     "output_type": "execute_result"
    }
   ],
   "source": [
    "A"
   ]
  },
  {
   "cell_type": "code",
   "execution_count": 126,
   "metadata": {},
   "outputs": [],
   "source": [
    "\n",
    "b = np.matrix([64.4,65.4,65.4,65.2])\n",
    "p0 = np.linalg.inv(A.transpose()*A)*A.transpose()*b.transpose()"
   ]
  },
  {
   "cell_type": "code",
   "execution_count": 127,
   "metadata": {},
   "outputs": [
    {
     "data": {
      "text/plain": [
       "matrix([[-0.3],\n",
       "        [ 0.3],\n",
       "        [65.1]])"
      ]
     },
     "execution_count": 127,
     "metadata": {},
     "output_type": "execute_result"
    }
   ],
   "source": [
    "p0"
   ]
  },
  {
   "cell_type": "code",
   "execution_count": 128,
   "metadata": {},
   "outputs": [],
   "source": [
    "bigA = np.sqrt(p0[0]**2 + p0[1]**2)\n",
    "a = np.arcsin(p0[0]/bigA)\n",
    "b = np.arccos(p0[1]/bigA)"
   ]
  },
  {
   "cell_type": "code",
   "execution_count": 129,
   "metadata": {},
   "outputs": [
    {
     "data": {
      "text/plain": [
       "matrix([[-45.]])"
      ]
     },
     "execution_count": 129,
     "metadata": {},
     "output_type": "execute_result"
    }
   ],
   "source": [
    "a*180/np.pi"
   ]
  },
  {
   "cell_type": "code",
   "execution_count": 130,
   "metadata": {},
   "outputs": [
    {
     "data": {
      "text/plain": [
       "matrix([[45.]])"
      ]
     },
     "execution_count": 130,
     "metadata": {},
     "output_type": "execute_result"
    }
   ],
   "source": [
    "b*180/np.pi"
   ]
  },
  {
   "cell_type": "code",
   "execution_count": null,
   "metadata": {},
   "outputs": [],
   "source": []
  }
 ],
 "metadata": {
  "kernelspec": {
   "display_name": "Data Collection (2022-2.0)",
   "language": "",
   "name": "2022-2.0-py39"
  },
  "language_info": {
   "codemirror_mode": {
    "name": "ipython",
    "version": 3
   },
   "file_extension": ".py",
   "mimetype": "text/x-python",
   "name": "python",
   "nbconvert_exporter": "python",
   "pygments_lexer": "ipython3",
   "version": "3.9.12"
  }
 },
 "nbformat": 4,
 "nbformat_minor": 4
}
